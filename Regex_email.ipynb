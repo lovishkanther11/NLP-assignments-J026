{
  "nbformat": 4,
  "nbformat_minor": 0,
  "metadata": {
    "colab": {
      "name": "Regex-email.ipynb",
      "provenance": [],
      "collapsed_sections": [],
      "include_colab_link": true
    },
    "kernelspec": {
      "name": "python3",
      "display_name": "Python 3"
    }
  },
  "cells": [
    {
      "cell_type": "markdown",
      "metadata": {
        "id": "view-in-github",
        "colab_type": "text"
      },
      "source": [
        "<a href=\"https://colab.research.google.com/github/lovishkanther11/NLP-assignments-J026/blob/home-work/Regex_email.ipynb\" target=\"_parent\"><img src=\"https://colab.research.google.com/assets/colab-badge.svg\" alt=\"Open In Colab\"/></a>"
      ]
    },
    {
      "cell_type": "code",
      "metadata": {
        "id": "NouGelDfBR0O",
        "colab_type": "code",
        "colab": {}
      },
      "source": [
        "import re"
      ],
      "execution_count": 0,
      "outputs": []
    },
    {
      "cell_type": "code",
      "metadata": {
        "id": "IzPZVyy9Bei_",
        "colab_type": "code",
        "colab": {}
      },
      "source": [
        "str = 'Btech Data Science lovish.kanther1721@nmims.edu.in Lovish Kanther vkantherlovish03@gmail.com '"
      ],
      "execution_count": 0,
      "outputs": []
    },
    {
      "cell_type": "code",
      "metadata": {
        "id": "5DDox5hEBn7u",
        "colab_type": "code",
        "colab": {}
      },
      "source": [
        "pattern_email = r'[\\w.]+@+[\\w+.]*'"
      ],
      "execution_count": 0,
      "outputs": []
    },
    {
      "cell_type": "code",
      "metadata": {
        "id": "TXK5bVaQCOxK",
        "colab_type": "code",
        "outputId": "c567d8fc-b1ce-4f75-fc78-c3a00efc6ae0",
        "colab": {
          "base_uri": "https://localhost:8080/",
          "height": 34
        }
      },
      "source": [
        "re.findall(pattern_email,str)"
      ],
      "execution_count": 4,
      "outputs": [
        {
          "output_type": "execute_result",
          "data": {
            "text/plain": [
              "['lovish.kanther1721@nmims.edu.in', 'vkantherlovish03@gmail.com']"
            ]
          },
          "metadata": {
            "tags": []
          },
          "execution_count": 4
        }
      ]
    },
    {
      "cell_type": "code",
      "metadata": {
        "id": "iIBmlkt4CRJF",
        "colab_type": "code",
        "colab": {}
      },
      "source": [
        "pattern_number= r'\\b\\d{10}\\b'"
      ],
      "execution_count": 0,
      "outputs": []
    },
    {
      "cell_type": "code",
      "metadata": {
        "id": "BoQVcL0KCaze",
        "colab_type": "code",
        "colab": {}
      },
      "source": [
        "str_1 = '9874563210 lovish11 vkantherlovish03@gmail.com'"
      ],
      "execution_count": 0,
      "outputs": []
    },
    {
      "cell_type": "code",
      "metadata": {
        "id": "iVE4SxyFCk-S",
        "colab_type": "code",
        "outputId": "ca036c38-402e-45eb-9eba-010a864671dd",
        "colab": {
          "base_uri": "https://localhost:8080/",
          "height": 34
        }
      },
      "source": [
        "re.findall(pattern_number,str_1)"
      ],
      "execution_count": 7,
      "outputs": [
        {
          "output_type": "execute_result",
          "data": {
            "text/plain": [
              "['9874563210']"
            ]
          },
          "metadata": {
            "tags": []
          },
          "execution_count": 7
        }
      ]
    },
    {
      "cell_type": "code",
      "metadata": {
        "id": "STsRITA0TarY",
        "colab_type": "code",
        "colab": {}
      },
      "source": [
        ""
      ],
      "execution_count": 0,
      "outputs": []
    }
  ]
}