{
  "nbformat": 4,
  "nbformat_minor": 0,
  "metadata": {
    "colab": {
      "name": "Prime.ipynb",
      "provenance": [],
      "collapsed_sections": [],
      "include_colab_link": true
    },
    "kernelspec": {
      "name": "python3",
      "display_name": "Python 3"
    }
  },
  "cells": [
    {
      "cell_type": "markdown",
      "metadata": {
        "id": "view-in-github",
        "colab_type": "text"
      },
      "source": [
        "<a href=\"https://colab.research.google.com/github/lovishkanther11/NLP-assignments-J026/blob/class-work/Prime.ipynb\" target=\"_parent\"><img src=\"https://colab.research.google.com/assets/colab-badge.svg\" alt=\"Open In Colab\"/></a>"
      ]
    },
    {
      "cell_type": "code",
      "metadata": {
        "id": "dcAqPpNI999R",
        "colab_type": "code",
        "colab": {}
      },
      "source": [
        "def nprno(n):\n",
        "  if n==1:\n",
        "    return 2\n",
        "  count = 1\n",
        "  num = 1\n",
        "  while (count<n):\n",
        "     num+=2\n",
        "     if isprime(num):\n",
        "       count +=1\n",
        "  return num\n",
        "def isprime(num):\n",
        "  fact = 2\n",
        "  while(fact*fact<= num):\n",
        "    if num%fact == 0:\n",
        "      return False\n",
        "    fact+=1\n",
        "  return True\n",
        "\n"
      ],
      "execution_count": 0,
      "outputs": []
    },
    {
      "cell_type": "code",
      "metadata": {
        "id": "PY5tefvaDS09",
        "colab_type": "code",
        "outputId": "7d9e6160-f3c3-439a-8da3-765b12a02d6b",
        "colab": {
          "base_uri": "https://localhost:8080/",
          "height": 34
        }
      },
      "source": [
        "nprno(5)"
      ],
      "execution_count": 0,
      "outputs": [
        {
          "output_type": "execute_result",
          "data": {
            "text/plain": [
              "11"
            ]
          },
          "metadata": {
            "tags": []
          },
          "execution_count": 11
        }
      ]
    }
  ]
}